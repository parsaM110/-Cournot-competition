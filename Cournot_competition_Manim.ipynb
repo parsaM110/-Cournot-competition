{
  "cells": [
    {
      "cell_type": "markdown",
      "metadata": {
        "id": "view-in-github",
        "colab_type": "text"
      },
      "source": [
        "<a href=\"https://colab.research.google.com/github/parsaM110/Cournot-competition/blob/main/Cournot_competition_Manim.ipynb\" target=\"_parent\"><img src=\"https://colab.research.google.com/assets/colab-badge.svg\" alt=\"Open In Colab\"/></a>"
      ]
    },
    {
      "cell_type": "code",
      "execution_count": null,
      "metadata": {
        "id": "zDlK9fMlf-_9"
      },
      "outputs": [],
      "source": [
        "# !sudo apt update\n",
        "!sudo apt install libcairo2-dev ffmpeg \\\n",
        "    texlive texlive-latex-extra texlive-fonts-extra \\\n",
        "    texlive-latex-recommended texlive-science \\\n",
        "    tipa libpango1.0-dev\n",
        "!pip install manim\n",
        "# !pip install IPython --upgrade"
      ]
    },
    {
      "cell_type": "code",
      "source": [
        "! pip list"
      ],
      "metadata": {
        "id": "Xkv-mT5UlZrf"
      },
      "execution_count": null,
      "outputs": []
    },
    {
      "cell_type": "code",
      "execution_count": null,
      "metadata": {
        "id": "_e9Se3ctiNdg"
      },
      "outputs": [],
      "source": [
        "from manim import *"
      ]
    },
    {
      "cell_type": "code",
      "execution_count": null,
      "metadata": {
        "id": "Te1_ZkZKiUFo"
      },
      "outputs": [],
      "source": [
        "%%manim -qm -v WARNING Testing\n",
        "\n",
        "class Testing(Scene):\n",
        "  def construct(self):\n",
        "\n",
        "    name = Text(\"Amedea\").to_edge(UL, buff=0.5)\n",
        "    sq = Square(side_length=0.5, fill_color=GREEN, fill_opacity=0.75).shift(LEFT * 3)\n",
        "    tri = Triangle().scale(0.6).to_edge(DR)\n",
        "\n",
        "    self.play(Write(name))\n",
        "    self.play(DrawBorderThenFill(sq), run_time=2)\n",
        "    self.play(Create(tri))\n",
        "\n",
        "    self.wait(1)\n",
        "\n",
        "    self.play(name.animate.to_edge(UR), run_time=2)"
      ]
    },
    {
      "cell_type": "code",
      "source": [
        "%%manim -qm -v WARNING CournotGraphs\n",
        "\n",
        "from manim import *\n",
        "\n",
        "class CournotGraphs(Scene):\n",
        "    def construct(self):\n",
        "        # Create axes\n",
        "        axes = Axes(\n",
        "            x_range=[0, 5, 1],\n",
        "            y_range=[0, 3, 1],\n",
        "            axis_config={\"color\": BLUE},\n",
        "        )\n",
        "        axes_labels = axes.get_axis_labels(x_label=\"S1\", y_label=\"S2\")\n",
        "        self.play(Create(axes), Write(axes_labels))\n",
        "\n",
        "        # Define the reaction functions\n",
        "        def reaction_function_1(q2):\n",
        "          if 1 - 2 * q2 > 0:\n",
        "           return 1 - 2 * q2\n",
        "          else:\n",
        "            return 0\n",
        "\n",
        "\n",
        "        def reaction_function_2(q1):\n",
        "            return 1/2 - 1/2 * q1 if 1/2 - 1/2 * q1 > 0 else 0\n",
        "\n",
        "        # Plot reaction function for Firm 1\n",
        "        reaction_curve_1 = axes.plot(lambda y: reaction_function_1(y), color=GREEN)\n",
        "        self.play(Create(reaction_curve_1))\n",
        "\n",
        "        # Plot reaction function for Firm 2\n",
        "        reaction_curve_2 = axes.plot(lambda x: reaction_function_2(x), color=RED)\n",
        "        self.play(Create(reaction_curve_2))\n",
        "\n",
        "        # Add labels for the reaction functions\n",
        "        label_1 = MathTex(\"s_1 = 2 - s_2\", color=GREEN).next_to(reaction_curve_1, RIGHT)\n",
        "        label_2 = MathTex(\"s_2 = 1/2 - s_1\", color=RED).next_to(reaction_curve_2, UP)\n",
        "        self.play(Write(label_1), Write(label_2))\n",
        "\n",
        "        self.wait(2)\n",
        "\n",
        "\n"
      ],
      "metadata": {
        "id": "pyHjTS4VtE0A"
      },
      "execution_count": null,
      "outputs": []
    },
    {
      "cell_type": "code",
      "source": [
        "%%manim -qm -v WARNING VerticalLineFromInfinity\n",
        "\n",
        "class VerticalLineFromInfinity(Scene):\n",
        "    def construct(self):\n",
        "        # Create axes\n",
        "        axes = Axes(\n",
        "            x_range=[0, 5, 1],\n",
        "            y_range=[0, 3, 1],\n",
        "            axis_config={\"color\": BLUE},\n",
        "            x_axis_config={\"include_numbers\": True},\n",
        "            y_axis_config={\"include_numbers\": True}\n",
        "        )\n",
        "\n",
        "        # Create the vertical line\n",
        "        vertical_line = Line(\n",
        "            axes.coords_to_point(3, 3),\n",
        "            axes.coords_to_point(3, 0),\n",
        "            color=GREEN\n",
        "        )\n",
        "\n",
        "        # Add labels\n",
        "        label_y1 = axes.get_y_axis_label(\"1\", direction=UP)\n",
        "        label_y1.next_to(axes.coords_to_point(0, 1), LEFT)\n",
        "        label_y1.set_color(GREEN)  # Set the color to green\n",
        "\n",
        "        # Add everything to the scene\n",
        "        self.add(axes, vertical_line, label_y1)\n",
        "        self.wait()\n"
      ],
      "metadata": {
        "id": "sBoVptjOAe4S"
      },
      "execution_count": null,
      "outputs": []
    },
    {
      "cell_type": "code",
      "source": [
        "%%manim -qm -v WARNING PolygonOnAxes\n",
        "\n",
        "class PolygonOnAxes(Scene):\n",
        "    def get_rectangle_corners(self, bottom_left, top_right):\n",
        "        return [\n",
        "            (top_right[0], top_right[1]),\n",
        "            (bottom_left[0], top_right[1]),\n",
        "            (bottom_left[0], bottom_left[1]),\n",
        "            (top_right[0], bottom_left[1]),\n",
        "        ]\n",
        "\n",
        "    def construct(self):\n",
        "        ax = Axes(\n",
        "            x_range=[0, 10],\n",
        "            y_range=[0, 10],\n",
        "            x_length=6,\n",
        "            y_length=6,\n",
        "            axis_config={\"include_tip\": False},\n",
        "        )\n",
        "\n",
        "        t = ValueTracker(5)\n",
        "        k = 25\n",
        "\n",
        "        graph = ax.plot(\n",
        "            lambda x: k / x,\n",
        "            color=YELLOW_D,\n",
        "            x_range=[k / 10, 10.0, 0.01],\n",
        "            use_smoothing=False,\n",
        "        )\n",
        "\n",
        "        def get_rectangle():\n",
        "            polygon = Polygon(\n",
        "                *[\n",
        "                    ax.c2p(*i)\n",
        "                    for i in self.get_rectangle_corners(\n",
        "                        (0, 0), (t.get_value(), k / t.get_value())\n",
        "                    )\n",
        "                ]\n",
        "            )\n",
        "            polygon.stroke_width = 1\n",
        "            polygon.set_fill(BLUE, opacity=0.5)\n",
        "            polygon.set_stroke(YELLOW_B)\n",
        "            return polygon\n",
        "\n",
        "        polygon = always_redraw(get_rectangle)\n",
        "\n",
        "        dot = Dot()\n",
        "        dot.add_updater(lambda x: x.move_to(ax.c2p(t.get_value(), k / t.get_value())))\n",
        "        dot.set_z_index(10)\n",
        "\n",
        "        self.add(ax, graph, dot)\n",
        "        self.play(Create(polygon))\n",
        "        self.play(t.animate.set_value(10))\n",
        "        self.play(t.animate.set_value(k / 10))\n",
        "        self.play(t.animate.set_value(5))"
      ],
      "metadata": {
        "id": "k28FQJF6UDTq"
      },
      "execution_count": null,
      "outputs": []
    },
    {
      "cell_type": "code",
      "source": [
        "\n",
        "class ImplicitFunctionExample(Scene):\n",
        "    def construct(self):\n",
        "        graph = ImplicitFunction(\n",
        "           lambda x, y: x if y >= 1 else np.nan,  # Adjusted lambda function\n",
        "         #   lambda x, y:   1 - 2 * x - y if y < 1 and  x < 1/2 elif x,\n",
        "           #lambda x, y: x if y > 1 and x <= 1/2 else 1 - 2 * x - y if y < 1 and x <= 1/2 else np.nan,\n",
        "          color=YELLOW\n",
        "        )\n",
        "        graph2 = ImplicitFunction(\n",
        "           lambda x, y: 1 - 2 * x - y if y <=  1 and  y >= 0 else np.nan,  # Adjusted lambda function\n",
        "         #   lambda x, y:   1 - 2 * x - y if y < 1 and  x < 1/2 elif x,\n",
        "           #lambda x, y: x if y > 1 and x <= 1/2 else 1 - 2 * x - y if y < 1 and x <= 1/2 else np.nan,\n",
        "          color=YELLOW\n",
        "        )\n",
        "        self.add(NumberPlane(), graph, graph2)\n",
        "\n",
        "# don't remove below command for run button to work\n",
        "%manim -qm -v WARNING ImplicitFunctionExample"
      ],
      "metadata": {
        "id": "IIewVWrvYajE"
      },
      "execution_count": null,
      "outputs": []
    }
  ],
  "metadata": {
    "colab": {
      "private_outputs": true,
      "provenance": [],
      "authorship_tag": "ABX9TyOLNFVZcyYlKl224beNBo11",
      "include_colab_link": true
    },
    "kernelspec": {
      "display_name": "Python 3",
      "name": "python3"
    },
    "language_info": {
      "name": "python"
    }
  },
  "nbformat": 4,
  "nbformat_minor": 0
}